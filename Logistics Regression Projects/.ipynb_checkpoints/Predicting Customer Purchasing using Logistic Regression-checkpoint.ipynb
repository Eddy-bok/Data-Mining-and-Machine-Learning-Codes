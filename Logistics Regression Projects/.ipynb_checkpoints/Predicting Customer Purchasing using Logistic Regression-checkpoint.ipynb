{
 "cells": [
  {
   "cell_type": "markdown",
   "id": "e6701518-fe6c-498c-8607-ea56965a88bc",
   "metadata": {},
   "source": [
    "<h1 style=\"font-size:3rem;color:maroon;\">Predicting Customer Purchases: Logistic Regression Project"
   ]
  },
  {
   "cell_type": "markdown",
   "id": "5a1fc603-3070-4bd8-9799-6db1209cc095",
   "metadata": {},
   "source": [
    "# Contents"
   ]
  },
  {
   "cell_type": "markdown",
   "id": "b3bffb7d-693e-41cc-af1e-31f86c1b1615",
   "metadata": {},
   "source": [
    "## 1. <u>Introduction</u>"
   ]
  },
  {
   "cell_type": "markdown",
   "id": "fb7d54ff-4abe-4302-8a8f-78ceb1c048d0",
   "metadata": {},
   "source": [
    "In the evolving landscape of e-commerce and retail, ability to predict customer purchases has become a crucial aspect of business strategy.  This insight can provide businesses with actionable intelligence to optimize marketing efforts, enhance customer satisfaction, and drive revenue growth.  Organizations can now leverage machine learning techniques to make predictions based on historical transactional data as well as other parameters to build predictive models that anticipate future purchases with high accuracy."
   ]
  },
  {
   "cell_type": "markdown",
   "id": "71312ddb-f867-42b5-a660-f4a0c002b9cc",
   "metadata": {},
   "source": [
    "## 2. <u>Problem Statement</u>"
   ]
  },
  {
   "cell_type": "markdown",
   "id": "f32cc904-2ea3-4e1c-a6ac-7c8cdbb4b8de",
   "metadata": {},
   "source": [
    "Time spent on e-commerce sites and websites pages visited could be indicators of purchase intent.  Infact, in many cases, these ranslate to purchases.  However, identifying the threshold at which engagement translates into a purchase remains a challenge.  This project aims to develop a data-driven predictive model that leverages machine learning algorithms to analyze browsing data and predict purchase likelihood.\n",
    "\n",
    "Imagine you work for an e-commerce company. Based on customer browsing data, such as time spent on the site and pages visited, you need to predict whether a customer will complete a purchase.  This presents a binary classification problem where:\n",
    "- y = 1:  The customer purchases the product.\n",
    "- y = 0:  The customer does not purchase the product."
   ]
  },
  {
   "cell_type": "markdown",
   "id": "d0e8768c-7379-4672-88ec-3ec8c2fde050",
   "metadata": {},
   "source": [
    "## 3. <u>Dataset and Visualization</u>"
   ]
  },
  {
   "cell_type": "markdown",
   "id": "a6c9f4e4-a921-48cb-803d-2fc8df1ec3eb",
   "metadata": {},
   "source": [
    "### 3.1 Step 1: Loading and Visualizing the Data\n",
    "\n",
    "The dataset consists of three features:\n",
    "1. Time on Website (minutes):  This represents the total amount of time a customer spent browsing the website during a session.\n",
    "2. Number of pages visited:  This represents the number of pages the customer viewed in that browsing session.\n",
    "3. Purchase(y):  This represents the target variable, where:\n",
    "    - y = 1: indicates that the customer purchased the product.\n",
    "    - y = 0: indicates that the customer did not purchase the product.\n",
    "      \n",
    "This dataset represents a binary classification problem where the goal is to predict the target variable (y) based on the browsing behavior of customers."
   ]
  },
  {
   "cell_type": "code",
   "execution_count": 88,
   "id": "ffb93ff6-0065-435f-80ad-b7003775eac7",
   "metadata": {},
   "outputs": [
    {
     "data": {
      "image/png": "[encoded data removed]",
      "text/plain": [
       "<Figure size 800x600 with 1 Axes>"
      ]
     },
     "metadata": {},
     "output_type": "display_data"
    }
   ],
   "source": [
    "import numpy as np\n",
    "import matplotlib.pyplot as plt\n",
    "\n",
    "# Sample dataset (time spent on website, pages visited, purchase)\n",
    "data = np.array([[12, 2, 0], [20, 6, 0], [35, 4, 1], [50, 8, 1], [15, 3, 0],\n",
    "                 [45, 10, 1]])\n",
    "X = data[:, :2]\n",
    "y = data[:, 2]\n",
    "\n",
    "# Visualization\n",
    "plt.figure(figsize = (8, 6))\n",
    "pos = y == 1\n",
    "neg = y == 0\n",
    "plt.scatter(X[pos, 0], X[pos, 1], c='red', marker='x', label='Positive')\n",
    "plt.scatter(X[neg, 0], X[neg, 1], c='blue', marker='s', label='Negative')\n",
    "plt.xlabel('Time on Website (min)')\n",
    "plt.ylabel('Pages Visited')\n",
    "plt.legend()\n",
    "plt.title('Customer Purchase Data')\n",
    "plt.show()"
   ]
  },
  {
   "cell_type": "markdown",
   "id": "148afdf5-f972-42b8-a3ec-52307a1d72d8",
   "metadata": {},
   "source": [
    "The scatter plot above displays the relationship between 'Time on website' and 'Pages visited', with different markers representing whether a customer made a purchase or not:\n",
    "- Red markers ('x') represents customers who purchased the product (positive outcomes, y=1).\n",
    "- Blue markers ('s') represents customers who did not purchase the product (negative outcomes, y=0).\n",
    "### 3.2 Observations:\n",
    "- It was observed that customers who spent more time on the website and visited more pages were more likely to make a purchase (as seen in the cluster of red markers at higher values of time and pages visited).\n",
    "- Conversely, customers who spent less browsing time and visited fewer pages tend not to make a purchase (blue clusters at lower levels).\n",
    "### 3.3 Trends:\n",
    "- The scatter plot reveals a positive correlation between the likelihood of purchase and the amount of engagement (measured by time and pages visited).\n",
    "- Customers with very minimal engagement (low time and page visits)  are unlikely to make a purchase.\n",
    "  \n",
    "The above trends suggest that browsingactivity metrics like time spent and pages visited are strong predictors for identifying customer purchase behavior.\n"
   ]
  },
  {
   "cell_type": "markdown",
   "id": "46b74f71-0c6f-40fb-bb18-6df69e0b839c",
   "metadata": {},
   "source": [
    "## 4. <u>Implementation of the Sigmoid Function</u>"
   ]
  },
  {
   "cell_type": "markdown",
   "id": "8e870ea4-afab-4ce4-b4c6-70cde0777948",
   "metadata": {},
   "source": [
    "### 4.1 Step 2: Implementing the Sigmoid Function"
   ]
  },
  {
   "cell_type": "code",
   "execution_count": 152,
   "id": "fdf01470-781a-4ebc-8ea0-3e86e9764f8d",
   "metadata": {},
   "outputs": [
    {
     "name": "stdout",
     "output_type": "stream",
     "text": [
      "Sigmoid: [1.00000000e+00 1.00000000e+00 3.72007598e-44]\n"
     ]
    }
   ],
   "source": [
    "def sigmoid(z):\n",
    "    return 1 / (1 + np.exp(-z))\n",
    "\n",
    "# Testing the function\n",
    "z = np.array([100, 300, -100])\n",
    "print(\"Sigmoid:\",sigmoid(z))"
   ]
  },
  {
   "cell_type": "markdown",
   "id": "b7059963-554d-4b4b-a626-6d87c8f5216d",
   "metadata": {},
   "source": [
    "### 4.2 Analysis\n",
    "The sigmoid function above was tested with different values, including [0,2,-1], [1,0,3] and [100,300,-100]. From the implementation using the different values, the behavior of the sigmoid function confirmed that when the input (z) is very large, $e^{-z}$ becomes 0 and therefore using the sigmoid function formular, this amplifies the function to 1.  Hence for large positive values of z, the sigmoid function approaches 1.  Conversely, when the input for z is very small the output of the sigmoid function approaches 0.  \n",
    "### 4.3 Explanation in Terms of Sigmoid Behavior\n",
    "The sigmoid is a smooth S-shaped curve that maps any real number input to the range [0,1].  The behavior of the function is driven by the exponential term $e^{-z}$:\n",
    "- For large positive z inputs, the exponential term $e^{-z}$ diminishes towards 0, leading the sigmoid to disperse near 1.\n",
    "- For large negative z inputs, the exponential term $e^{-z}$ grows large, causing the sigmoid to disperse near 0."
   ]
  },
  {
   "cell_type": "markdown",
   "id": "c3c0e669-b5da-421b-878e-7b5447b5e802",
   "metadata": {},
   "source": [
    "## 5. <u>Implementation of the Cost Function</u>"
   ]
  },
  {
   "cell_type": "markdown",
   "id": "659289f8-179d-4132-993e-9496552e9fe9",
   "metadata": {},
   "source": [
    "### 5.1 Step 3: Implementing the Cost Function"
   ]
  },
  {
   "cell_type": "code",
   "execution_count": 154,
   "id": "3f1ae11a-5cba-490a-9548-b1980d227768",
   "metadata": {},
   "outputs": [
    {
     "name": "stdout",
     "output_type": "stream",
     "text": [
      "Cost:0.6931\n"
     ]
    }
   ],
   "source": [
    "def compute_cost(X, y, w, b):\n",
    "    m = len(y)\n",
    "    cost = 0\n",
    "    for i in range(m):\n",
    "        z = np.dot(X[i], w) + b\n",
    "        f_wb = sigmoid(z)\n",
    "        cost += -y[i] * np.log(f_wb) - (1 - y[i]) * np.log(1 - f_wb)\n",
    "    return cost / m\n",
    "\n",
    "# Example Usage\n",
    "w = np.zeros(2)\n",
    "b = 0\n",
    "cost = compute_cost(X, y, w, b)\n",
    "print(f\"Cost:{cost:.4f}\")"
   ]
  },
  {
   "cell_type": "markdown",
   "id": "6f113fe8-1e39-45c9-9e5e-21a3bb4d92c9",
   "metadata": {},
   "source": [
    "### 5.2 Cost Function Behavior with Zero Weights\n",
    "when both weights (w) and bias (b) are initialized to zero, the models predictions are constant for all inputs, regardless of the data in X. This means that the contribution of the input features (X) to the predictions will also be zero.  The bias (b) being zero further ensures that the model outputs a constant value for all inputs.\n",
    "\n",
    "### 5.3 Interpretation of the Cost Function when Predictions are far from Actual Values\n",
    "The cost function penalizes predictions that are far from the actual target values, consequently;\n",
    "- For data points where the actual label should be 1, but the prediction is 0.5, the model incurs a significant penalty because it is far from the correct value.\n",
    "- Similarly, for data points where the actual label is 0 but the prediction is 0.5, the cost penalty will also be high. The high cost behavior at this stage aligns with its purpose to penalize incorrect predictions more heavily"
   ]
  },
  {
   "cell_type": "markdown",
   "id": "9d9dc170-a69c-407d-9457-1f3fe38194cf",
   "metadata": {},
   "source": [
    "## 6. <u>Gradient Descent Implementation</u>"
   ]
  },
  {
   "cell_type": "markdown",
   "id": "98672e62-ccfa-4c0c-89b6-5f74179138ff",
   "metadata": {},
   "source": [
    "### 6.1 Step 4: Implementing the Gradient Descent"
   ]
  },
  {
   "cell_type": "code",
   "execution_count": 123,
   "id": "21938c85-9d05-4c50-a69e-b44e303a5550",
   "metadata": {},
   "outputs": [
    {
     "name": "stdout",
     "output_type": "stream",
     "text": [
      "Final weights: [ 0.21883731 -0.74428752], Final bias: -1.422071305711537\n"
     ]
    }
   ],
   "source": [
    "def gradient_descent(X, y, w_in, b_in, alpha, num_iters):\n",
    "    m = len(y)\n",
    "    w = w_in.copy()\n",
    "    b = b_in\n",
    "    for i in range(num_iters):\n",
    "        dj_dw = np.zeros(X.shape[1])\n",
    "        dj_db = 0\n",
    "        for j in range(m):\n",
    "            z = np.dot(X[j], w) + b\n",
    "            f_wb = sigmoid(z)\n",
    "            err = f_wb - y[j]\n",
    "            dj_dw += err * X[j]\n",
    "            dj_db += err\n",
    "        w -= alpha * dj_dw / m\n",
    "        b -= alpha * dj_db / m\n",
    "    return w, b\n",
    "\n",
    "# Train the model\n",
    "iterations = 1000\n",
    "alpha = 0.01\n",
    "w_final, b_final = gradient_descent(X, y, w.copy(), b, alpha, iterations)\n",
    "print(f\"Final weights: {w_final}, Final bias: {b_final}\")"
   ]
  },
  {
   "cell_type": "markdown",
   "id": "a6d20ac7-7198-48b5-a575-1bfc043b11ad",
   "metadata": {},
   "source": [
    "### 6.2 Explanation of the Gradient Descent Process\n",
    "In the process above, the weights (w) and bias (b) are iteratively updated to minimize the cost function.  For each iteration, the derivatives of the cost function with respect to the weights and bias are calculated.  These gradients (dj_dw = err * X[j] and dj_db = err) represent the direction and magnitude of change required to minimize the cost.  The weights and bias are updated by moving in the direction opposite to the gradient to minimize the cost function.  Meanwhile, the $\\alpha$ determines the step size for each update.\n",
    "### 6.3 What Happens when the $\\alpha$ is too large or too Small\n",
    "- If $\\alpha$ is too large, then the updates to weights and bias are too large, which is causing the algorithm to overshoot the minimum of the cost function.  This can result in oscillation around the minimum without any converge. It can also result in the cost function increasing instead of decreasing as expected.\n",
    "- If $\\alpha$ is too small, then the updates to the weights and bias are too small, which is resulting in slow progress toward the minimum.  This situation can result in extremely slow convergence, requiring multiple iterations to reach the minimum.    "
   ]
  },
  {
   "cell_type": "markdown",
   "id": "6426fb8e-d27c-4b89-b853-6782d54021ca",
   "metadata": {},
   "source": [
    "## 7. <u>Regularization</u>"
   ]
  },
  {
   "cell_type": "markdown",
   "id": "859815ab-f20f-4bba-b34e-9bce0666f2a5",
   "metadata": {},
   "source": [
    "### 7.1 Step 5: Implementing Regularization"
   ]
  },
  {
   "cell_type": "code",
   "execution_count": 106,
   "id": "5cf7d033-c5af-4a7d-a8ef-0939bf27d6f8",
   "metadata": {},
   "outputs": [
    {
     "name": "stdout",
     "output_type": "stream",
     "text": [
      "Regularized Cost: 0.6931471805599453\n"
     ]
    }
   ],
   "source": [
    "def compute_cost_regularized(X, y, w, b, lambda_):\n",
    "    m = len(y)\n",
    "    cost = compute_cost(X, y, w, b)\n",
    "    reg_cost = (lambda_ / (2 * m)) * np.sum(w**2)\n",
    "    return cost + reg_cost\n",
    "\n",
    "# Example usage with regularization parameter lambda_\n",
    "lambda_ = 0.1\n",
    "reg_cost = compute_cost_regularized(X, y, w, b, lambda_)\n",
    "print(\"Regularized Cost:\",reg_cost)"
   ]
  },
  {
   "cell_type": "markdown",
   "id": "7ccc0684-0f6d-4867-a25a-9368ddd19a9b",
   "metadata": {},
   "source": [
    "### 7.2 Impact of Regularization on the Model\n",
    "Regularization simplifies the model by penalizing large weights, and encouraging smaller and less complex models that generalize better.  It prevents overfitting, by stopping the model from fitting noise in the training data.  It does this by reducing the reliance of the model on specific features.\n",
    "Meanwhile, the regularization parameter $\\lambda$ controls the strength of the penalty applied to the weights. When $\\lambda$ is small, the regularization term has little influence, so the model focuses mainly on minimizing the original cost function.  This may result in overfitting if the model becomes too complex and relies heavily on specific features."
   ]
  },
  {
   "cell_type": "markdown",
   "id": "8580b6a6-041a-47b3-984d-18c31a01500d",
   "metadata": {},
   "source": [
    "## 8. <u>Experimentation of $\\alpha$, and $\\lambda$ and corresponding cost graphs</u>"
   ]
  },
  {
   "cell_type": "code",
   "execution_count": 110,
   "id": "960192f1-af4c-4d1f-9edc-a710090fd730",
   "metadata": {},
   "outputs": [
    {
     "name": "stdout",
     "output_type": "stream",
     "text": [
      "Alpha: 0.001, Lambda: 0, Regularized Cost: 0.5001\n",
      "Alpha: 0.001, Lambda: 0.01, Regularized Cost: 0.5001\n",
      "Alpha: 0.001, Lambda: 0.1, Regularized Cost: 0.5006\n",
      "Alpha: 0.01, Lambda: 0, Regularized Cost: 0.2780\n",
      "Alpha: 0.01, Lambda: 0.01, Regularized Cost: 0.2785\n",
      "Alpha: 0.01, Lambda: 0.1, Regularized Cost: 0.2830\n",
      "Alpha: 0.1, Lambda: 0, Regularized Cost: 0.0161\n",
      "Alpha: 0.1, Lambda: 0.01, Regularized Cost: 0.0346\n",
      "Alpha: 0.1, Lambda: 0.1, Regularized Cost: 0.2010\n"
     ]
    }
   ],
   "source": [
    "alphas = [0.001, 0.01, 0.1]  # Different learning rates\n",
    "lambdas = [0, 0.01, 0.1]     # Different regularization strengths\n",
    "\n",
    "for alpha in alphas:\n",
    "    for lambda_ in lambdas:\n",
    "        w_final, b_final = gradient_descent(X, y, w.copy(), b, alpha, 1000)\n",
    "        cost_reg = compute_cost_regularized(X, y, w_final, b_final, lambda_)\n",
    "        print(f\"Alpha: {alpha}, Lambda: {lambda_}, Regularized Cost: {cost_reg:.4f}\")"
   ]
  },
  {
   "cell_type": "markdown",
   "id": "f666092a-07bf-459a-9a68-5f35538c4246",
   "metadata": {},
   "source": [
    "### 8.1 Effects of $\\alpha$ (Learning Rate) on Gradient Descent\n",
    "The learning rate determines the step size for updating the weights and bias during each itertion of gradient descent.  From the above experimentation, when we used a small value for alpha (0.001) the cost decreases were slow, because the steps are too small.  Gradient descent takes a longer time to converge, and more iterations are required to reach the minimum.  The output shows the cost values remain relatively high for small $\\alpha$ due to the slow progression of the algorithm. When we use a moderate value for alpha (0.01), we notice that the algorithm converges at a reasonable speed and the regularized cost are lower, and indicates effective minimization of the cost function. Finally, when $\\alpha$ is large (0.1), the gradient descent converges faster, but there is an overshooting risk or causing instability.From the output, the regularized cost further drops to 0.0161 which is very low compared to the others, and this could be suggestive of rapid convergence.\n",
    "\n",
    "### 8.2 Effects of $\\lambda$ (Regularization Parameter) on Gradient Descent\n",
    "The regularization parameter adds a penalty for large weights, reducing model complexity and preventing overfitting. Its value controls the strength of regularization. From the above experimentation, when the value of $\\lambda$ is small (0), the model may overfit the training data esepcially if there is a large number of features.  In the results, the regularized cost (0.2780) is relatively low indicating effective convergence but with a risk of overfitting.  Also, a moderate $\\lambda$ (0.01) prevents overfitting by keeping the weights smaller, leading to better generalization.  The regularized cost (0.2785) increases slightly but are indicative of a balance between fitting the data and avoiding overfitting.  Finally, when lambda is large (0.1), there is excessive regularization, which forces the weights to be very small, and can cause underfitting.  This makes the model too simple and fails to capture important patterns in the data.  In the results, the regularized cost increases significantly, showing reduced model performance.     \n",
    "### 8.3 Noticeable Trends in the Cost Function\n",
    "In the cost function, a small $\\alpha$ leads to slower convergence, with higher costs persisting over multiple iterations. Additionally, a moderate $\\alpha$ achieves efficient convergence with lower costs.  Lastly, large $\\alpha$ can lead to overshooting, rapid convergence and/or instability, depending on the scenario.\n",
    "Meanwhile, a small $\\lambda$ allows the model to overfit, with lower costs but potentially poor generalization.  On the other hand, moderate $\\lambda$ balances fitting and generalization, leading to stable and relatively low costs.  Finally, a large lambda results in higher costs, indicating underfitting and reduced model performance."
   ]
  },
  {
   "cell_type": "markdown",
   "id": "931b71b2-119d-45cf-8965-357391c11c17",
   "metadata": {},
   "source": [
    "## 9. <u>Model Evaluation</u>"
   ]
  },
  {
   "cell_type": "markdown",
   "id": "82f9e72e-54ae-4765-9a3e-ad03170b1021",
   "metadata": {},
   "source": [
    "### 9.1 Step 6: Making Predictions and Evaluating Accuracy"
   ]
  },
  {
   "cell_type": "code",
   "execution_count": 127,
   "id": "d9ded2e5-cd59-48e9-9a16-ceecfaf8e6ee",
   "metadata": {},
   "outputs": [
    {
     "name": "stdout",
     "output_type": "stream",
     "text": [
      "Accuracy: 100.0 %\n",
      "[0. 0. 1. 1. 0. 1.]\n"
     ]
    }
   ],
   "source": [
    "def predict(X, w, b):\n",
    "    m = len(y)\n",
    "    preds = np.zeros(m)\n",
    "\n",
    "    for i in range(m):\n",
    "        z = np.dot(X[i], w) + b\n",
    "        preds[i] = 1 if sigmoid(z) >= 0.5 else 0\n",
    "    return preds\n",
    "\n",
    "# Evaluating accuracy\n",
    "predictions = predict(X, w_final, b_final)\n",
    "accuracy = np.mean(predictions == y) * 100\n",
    "print(\"Accuracy:\",accuracy, \"%\")\n",
    "print(predictions)"
   ]
  },
  {
   "cell_type": "markdown",
   "id": "1c6d5a0e-c0ce-4a8d-a5b0-84e466de4d88",
   "metadata": {},
   "source": [
    "### 9.2 Sample Utilization"
   ]
  },
  {
   "cell_type": "code",
   "execution_count": 141,
   "id": "96a730ae-fc68-4db2-b173-f0f78f263d40",
   "metadata": {},
   "outputs": [
    {
     "name": "stdout",
     "output_type": "stream",
     "text": [
      "[0. 0. 1. 1. 1.]\n"
     ]
    }
   ],
   "source": [
    "def predict(X, w, b):\n",
    "    m = len(X)\n",
    "    preds = np.zeros(m)\n",
    "\n",
    "    for i in range(m):\n",
    "        z = np.dot(X[i], w) + b\n",
    "        preds[i] = 1 if sigmoid(z) >= 0.5 else 0\n",
    "    return preds\n",
    "    \n",
    "\n",
    "X_data = ([5, 1], [20, 5], [35, 4], [50, 10], [25, 3])\n",
    "w_new = ([0.2, -0.7])\n",
    "b_new = -1.4\n",
    "predictions = predict(X_data, w_new, b_new)\n",
    "print(predictions)"
   ]
  },
  {
   "cell_type": "markdown",
   "id": "82a31b81-1f43-45f4-b75b-d4583a610aed",
   "metadata": {},
   "source": [
    "### 9.3 Discussion on Models Acuracy and Suggestion for Improvement\n",
    "Based on the result above, it implies that the model is performing perfectly well on the provided training dataset and rightly predicts all labels in (y).  Based on the dataset, the models accuracy meets my expectation, as this perfection in the model is most likely because the model has been trained on the same dataset and therefore has no unseen data. \n",
    "\n",
    "To improve the model, we could consider:\n",
    "- Testing on unseen data, more so because a high accuracy on training data could indicate overfitting, where the model memorizes specific patterns in the training data.  \n",
    "- Increasing the dataset size, as a small training dataset increases the likelihood of overfitting.  By expanding the dataset with representative samples, this could improve the models ability to generalize. \n",
    "- Experimenting with feature engineering could help representation of underlying patterns in the dataset."
   ]
  },
  {
   "cell_type": "markdown",
   "id": "305a6c12-eac6-4c9c-830a-8f6fd529ef8d",
   "metadata": {},
   "source": [
    "## 10. <u>Conclusion</u>"
   ]
  },
  {
   "cell_type": "markdown",
   "id": "38f70232-90ba-45d2-99a4-4ab4eb6e8d67",
   "metadata": {},
   "source": [
    "The project successfully explored the implementation of logistic regression to predict customer pruchases based on browsing behavior. It showcased the step-by-step process of developing a machine learning model, from theory to practical deployment.  By leveraging logistic regression, we successfully built a model capable of predicting customer purchases based on behavioral data.  We developed the cost function to measure how well the models predictions aligned with actual outcomes.  Initially, when the models parameters (w, b) were set to zero (0), the cost was relatively high.  Gradient descent was implemented to update weights and bias, minimizing the cost function and improving the models performance. Generally, the model was designed to analyze key behavioral indicators such as 'time spent on a website' and the 'number of pages visited', leveraging logistic regression to classify whether a customer would make a purchase.  While the model achieved strong results on the training dataset, further improvement could be made. For instance, expanding the dataset to include more diverse features, testing on unseen data, increasing the dataset size, amongst others could further elevate the models effectiveness.\n",
    "\n",
    "This project provided a comprehensive approach to logistic regression, emphasizing the importance of data-driven decision making.  The integration of data analysis, model optimization, and deployment showcased the full lifecycle of a predictive analytics solution, which offers valuable insight for applications in e-commerce and beyond."
   ]
  }
 ],
 "metadata": {
  "kernelspec": {
   "display_name": "Python 3 (ipykernel)",
   "language": "python",
   "name": "python3"
  },
  "language_info": {
   "codemirror_mode": {
    "name": "ipython",
    "version": 3
   },
   "file_extension": ".py",
   "mimetype": "text/x-python",
   "name": "python",
   "nbconvert_exporter": "python",
   "pygments_lexer": "ipython3",
   "version": "3.9.21"
  }
 },
 "nbformat": 4,
 "nbformat_minor": 5
}
