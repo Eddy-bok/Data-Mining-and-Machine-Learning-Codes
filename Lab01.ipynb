{
 "cells": [
  {
   "cell_type": "code",
   "execution_count": 14,
   "id": "a03c2a6e-ef34-48eb-ab9d-2ed680453ec9",
   "metadata": {
    "scrolled": true
   },
   "outputs": [],
   "source": [
    "import numpy as np\n",
    "import matplotlib.pyplot as plt"
   ]
  },
  {
   "cell_type": "markdown",
   "id": "7845fdf9-37bd-47da-9814-b20d11ce9bd3",
   "metadata": {},
   "source": [
    "<h1 style=\"font-size:3rem;color:skyblue;\">Data Mining and Machine Learning (Lab 1)"
   ]
  },
  {
   "cell_type": "code",
   "execution_count": 28,
   "id": "c2c7a573-6c8d-419a-8d46-e50c83b09238",
   "metadata": {},
   "outputs": [
    {
     "name": "stdout",
     "output_type": "stream",
     "text": [
      "Cost at w = 200, b = 100: 4700.0\n"
     ]
    }
   ],
   "source": [
    "x_train = np.array([1.0, 1.7, 2.0, 2.5, 3.0, 3.2])\n",
    "y_train = np.array([250, 300, 480, 430, 630, 730])\n",
    "\n",
    "def compute_cost(x,y,w,b):\n",
    "    m = len(x)\n",
    "    total_cost = 0\n",
    "    for i in range(m):\n",
    "        f_wb = w * x[i] + b\n",
    "        cost = (f_wb - y[i]) ** 2\n",
    "        total_cost += cost\n",
    "    total_cost = total_cost / (2 * m)\n",
    "    return total_cost\n",
    "\n",
    "# Test the function\n",
    "w_test = 200\n",
    "b_test = 100\n",
    "cost = compute_cost(x_train, y_train, w_test, b_test)\n",
    "print(f\"Cost at w = {w_test}, b = {b_test}: {cost}\")"
   ]
  },
  {
   "cell_type": "code",
   "execution_count": 44,
   "id": "10a42e60-a37b-4381-9a6f-63206c7402ee",
   "metadata": {},
   "outputs": [
    {
     "name": "stdout",
     "output_type": "stream",
     "text": [
      "Final w:  197.44\n",
      "Final b:  31.66\n"
     ]
    }
   ],
   "source": [
    "def gradient_descent(x, y, w_init, b_init, alpha, num_iters):\n",
    "    w = w_init\n",
    "    b = b_init\n",
    "    for i in range(num_iters):\n",
    "        dj_dw = 0\n",
    "        dj_db = 0\n",
    "        for j in range(len(x)):\n",
    "            f_wb = w * x[j] + b\n",
    "            dj_dw += (f_wb - y[j]) * x[j]\n",
    "            dj_db += (f_wb - y[j])\n",
    "        dj_dw = dj_dw / len(x)\n",
    "        dj_db = dj_db / len(x)\n",
    "\n",
    "        w = w - alpha * dj_dw\n",
    "        b = b - alpha * dj_db\n",
    "\n",
    "    return w, b\n",
    "\n",
    "# Run gradient descent\n",
    "w_init = 0\n",
    "b_init = 0\n",
    "iterations = 1000\n",
    "alpha = 0.01\n",
    "\n",
    "w_final, b_final = gradient_descent(x_train, y_train, w_init, b_init, alpha, iterations)\n",
    "print(f\"Final w: {w_final: .2f}\")\n",
    "print(f\"Final b: {b_final: .2f}\")"
   ]
  }
 ],
 "metadata": {
  "kernelspec": {
   "display_name": "Python [conda env:base] *",
   "language": "python",
   "name": "conda-base-py"
  },
  "language_info": {
   "codemirror_mode": {
    "name": "ipython",
    "version": 3
   },
   "file_extension": ".py",
   "mimetype": "text/x-python",
   "name": "python",
   "nbconvert_exporter": "python",
   "pygments_lexer": "ipython3",
   "version": "3.12.3"
  }
 },
 "nbformat": 4,
 "nbformat_minor": 5
}
